{
  "nbformat": 4,
  "nbformat_minor": 0,
  "metadata": {
    "colab": {
      "name": "Copy of Car brand prediction.ipynb",
      "provenance": [],
      "mount_file_id": "1FE9Ny0X21hUleGAbll11-wMP0Muqt1EA",
      "authorship_tag": "ABX9TyMj3LYK0P44lE/1/Sa+NcZA",
      "include_colab_link": true
    },
    "kernelspec": {
      "name": "python3",
      "display_name": "Python 3"
    },
    "accelerator": "GPU"
  },
  "cells": [
    {
      "cell_type": "markdown",
      "metadata": {
        "id": "view-in-github",
        "colab_type": "text"
      },
      "source": [
        "<a href=\"https://colab.research.google.com/github/akhiilkasare/car-brand-prediction/blob/master/Copy_of_Car_brand_prediction.ipynb\" target=\"_parent\"><img src=\"https://colab.research.google.com/assets/colab-badge.svg\" alt=\"Open In Colab\"/></a>"
      ]
    },
    {
      "cell_type": "code",
      "metadata": {
        "id": "UBYFgFPCUZJ4",
        "colab_type": "code",
        "colab": {}
      },
      "source": [
        "# Importing necessary libraries\n",
        "\n",
        "from tensorflow.keras.layers import Input, Lambda, Dense, Flatten\n",
        "from tensorflow.keras.models import Model\n",
        "from tensorflow.keras.applications.resnet50 import ResNet50\n",
        "from tensorflow.keras.preprocessing import image\n",
        "from tensorflow.keras.preprocessing.image import ImageDataGenerator, load_img\n",
        "from tensorflow.keras.models import Sequential\n",
        "import numpy as np\n",
        "from glob import glob\n",
        "import matplotlib.pyplot as plt"
      ],
      "execution_count": null,
      "outputs": []
    },
    {
      "cell_type": "code",
      "metadata": {
        "id": "os2wqH7BWVrY",
        "colab_type": "code",
        "colab": {}
      },
      "source": [
        "# Resizing all the immages \n",
        "\n",
        "IMAGE_SIZE = [224,224]\n",
        "\n",
        "train_path = '/content/drive/My Drive/image_dataset/Train'\n",
        "valid_path = '/content/drive/My Drive/image_dataset/Test'"
      ],
      "execution_count": null,
      "outputs": []
    },
    {
      "cell_type": "markdown",
      "metadata": {
        "id": "5OqXyNU1Zxen",
        "colab_type": "text"
      },
      "source": [
        "* Importing the resnet library\n",
        "* In the input_shape argument the + [3] indictes basically 3 channels ie RGB\n",
        "* The weights we will be using will be default weights i.e. imagenet weights\n",
        "* include_top=False we have passed because in resnet the output categories are basically 1000 categories but in our case we need only three categories so because of that we dont habe to use the 1st and the last if you had 1000 categories you would have written `True` here and in the top most layer we need to provide my own layer, own dataset because of that we are going to pass include=False"
      ]
    },
    {
      "cell_type": "code",
      "metadata": {
        "id": "1bKlJyAiXgcJ",
        "colab_type": "code",
        "colab": {
          "base_uri": "https://localhost:8080/",
          "height": 52
        },
        "outputId": "849ea2f2-d7c5-4f18-a8e1-c5e8118dcce2"
      },
      "source": [
        "\n",
        "resnet = ResNet50(input_shape=IMAGE_SIZE + [3], weights='imagenet', include_top=False)"
      ],
      "execution_count": null,
      "outputs": [
        {
          "output_type": "stream",
          "text": [
            "Downloading data from https://storage.googleapis.com/tensorflow/keras-applications/resnet/resnet50_weights_tf_dim_ordering_tf_kernels_notop.h5\n",
            "94773248/94765736 [==============================] - 2s 0us/step\n"
          ],
          "name": "stdout"
        }
      ]
    },
    {
      "cell_type": "markdown",
      "metadata": {
        "id": "F1yx2NIgb509",
        "colab_type": "text"
      },
      "source": [
        "* We dont have to train the existing weights we just have to train our last layer\n",
        "* layer.trainable = False means i dont want to train my images"
      ]
    },
    {
      "cell_type": "code",
      "metadata": {
        "id": "p88koo3ybfFj",
        "colab_type": "code",
        "colab": {}
      },
      "source": [
        "for layer in resnet.layers:\n",
        "  layer.trainable = False"
      ],
      "execution_count": null,
      "outputs": []
    },
    {
      "cell_type": "markdown",
      "metadata": {
        "id": "JMiJIuJGeED7",
        "colab_type": "text"
      },
      "source": [
        "* Glob is useful for getting the number of output classes"
      ]
    },
    {
      "cell_type": "code",
      "metadata": {
        "id": "zutBeC3scVOM",
        "colab_type": "code",
        "colab": {}
      },
      "source": [
        "folders = glob('/content/drive/My Drive/image_dataset/Train/*')"
      ],
      "execution_count": null,
      "outputs": []
    },
    {
      "cell_type": "code",
      "metadata": {
        "id": "MLGFxkB5eRd2",
        "colab_type": "code",
        "colab": {
          "base_uri": "https://localhost:8080/",
          "height": 69
        },
        "outputId": "51457ca2-4245-4e2f-aab1-e067b6ceeedb"
      },
      "source": [
        "folders"
      ],
      "execution_count": null,
      "outputs": [
        {
          "output_type": "execute_result",
          "data": {
            "text/plain": [
              "['/content/drive/My Drive/image_dataset/Train/lamborghini',\n",
              " '/content/drive/My Drive/image_dataset/Train/mercedes',\n",
              " '/content/drive/My Drive/image_dataset/Train/audi']"
            ]
          },
          "metadata": {
            "tags": []
          },
          "execution_count": 6
        }
      ]
    },
    {
      "cell_type": "code",
      "metadata": {
        "id": "kqNDiAHyhEkk",
        "colab_type": "code",
        "colab": {
          "base_uri": "https://localhost:8080/",
          "height": 34
        },
        "outputId": "67364c14-3d48-4043-e481-71c2f0c2b457"
      },
      "source": [
        "len(folders)"
      ],
      "execution_count": null,
      "outputs": [
        {
          "output_type": "execute_result",
          "data": {
            "text/plain": [
              "3"
            ]
          },
          "metadata": {
            "tags": []
          },
          "execution_count": 7
        }
      ]
    },
    {
      "cell_type": "markdown",
      "metadata": {
        "id": "zQwARWPIexVj",
        "colab_type": "text"
      },
      "source": [
        "* We need to Flatten our resnet model"
      ]
    },
    {
      "cell_type": "markdown",
      "metadata": {
        "id": "TKGIFQ5Jf67Z",
        "colab_type": "text"
      },
      "source": [
        "![alt text](https://www.jeremyjordan.me/content/images/2018/04/vgg16.png)"
      ]
    },
    {
      "cell_type": "markdown",
      "metadata": {
        "id": "aOZcQfHggGTC",
        "colab_type": "text"
      },
      "source": [
        "## What is Flattning ? \n",
        "- we can see from the from the above vgg16 architecture is after 7 x 7 x 512 we need to convert our 2D features into 1D features. Flattening is required when it is required to convert a fully connected layer "
      ]
    },
    {
      "cell_type": "code",
      "metadata": {
        "id": "Pb6c8M1reTFq",
        "colab_type": "code",
        "colab": {}
      },
      "source": [
        "x = Flatten()(resnet.output)"
      ],
      "execution_count": null,
      "outputs": []
    },
    {
      "cell_type": "code",
      "metadata": {
        "id": "yy5gveTHe9PK",
        "colab_type": "code",
        "colab": {}
      },
      "source": [
        "# Our output will be our predition with 3 nodes\n",
        "\n",
        "prediction = Dense(len(folders), activation='softmax')(x)"
      ],
      "execution_count": null,
      "outputs": []
    },
    {
      "cell_type": "code",
      "metadata": {
        "id": "_SOPhZCphmuK",
        "colab_type": "code",
        "colab": {}
      },
      "source": [
        "model = Model(inputs=resnet.inputs, outputs=prediction)"
      ],
      "execution_count": null,
      "outputs": []
    },
    {
      "cell_type": "code",
      "metadata": {
        "id": "k3ZDRp6Nh35r",
        "colab_type": "code",
        "colab": {
          "base_uri": "https://localhost:8080/",
          "height": 1000
        },
        "outputId": "96610db6-045e-4da4-dc26-7d1605cec413"
      },
      "source": [
        "model.summary()"
      ],
      "execution_count": null,
      "outputs": [
        {
          "output_type": "stream",
          "text": [
            "Model: \"model\"\n",
            "__________________________________________________________________________________________________\n",
            "Layer (type)                    Output Shape         Param #     Connected to                     \n",
            "==================================================================================================\n",
            "input_1 (InputLayer)            [(None, 224, 224, 3) 0                                            \n",
            "__________________________________________________________________________________________________\n",
            "conv1_pad (ZeroPadding2D)       (None, 230, 230, 3)  0           input_1[0][0]                    \n",
            "__________________________________________________________________________________________________\n",
            "conv1_conv (Conv2D)             (None, 112, 112, 64) 9472        conv1_pad[0][0]                  \n",
            "__________________________________________________________________________________________________\n",
            "conv1_bn (BatchNormalization)   (None, 112, 112, 64) 256         conv1_conv[0][0]                 \n",
            "__________________________________________________________________________________________________\n",
            "conv1_relu (Activation)         (None, 112, 112, 64) 0           conv1_bn[0][0]                   \n",
            "__________________________________________________________________________________________________\n",
            "pool1_pad (ZeroPadding2D)       (None, 114, 114, 64) 0           conv1_relu[0][0]                 \n",
            "__________________________________________________________________________________________________\n",
            "pool1_pool (MaxPooling2D)       (None, 56, 56, 64)   0           pool1_pad[0][0]                  \n",
            "__________________________________________________________________________________________________\n",
            "conv2_block1_1_conv (Conv2D)    (None, 56, 56, 64)   4160        pool1_pool[0][0]                 \n",
            "__________________________________________________________________________________________________\n",
            "conv2_block1_1_bn (BatchNormali (None, 56, 56, 64)   256         conv2_block1_1_conv[0][0]        \n",
            "__________________________________________________________________________________________________\n",
            "conv2_block1_1_relu (Activation (None, 56, 56, 64)   0           conv2_block1_1_bn[0][0]          \n",
            "__________________________________________________________________________________________________\n",
            "conv2_block1_2_conv (Conv2D)    (None, 56, 56, 64)   36928       conv2_block1_1_relu[0][0]        \n",
            "__________________________________________________________________________________________________\n",
            "conv2_block1_2_bn (BatchNormali (None, 56, 56, 64)   256         conv2_block1_2_conv[0][0]        \n",
            "__________________________________________________________________________________________________\n",
            "conv2_block1_2_relu (Activation (None, 56, 56, 64)   0           conv2_block1_2_bn[0][0]          \n",
            "__________________________________________________________________________________________________\n",
            "conv2_block1_0_conv (Conv2D)    (None, 56, 56, 256)  16640       pool1_pool[0][0]                 \n",
            "__________________________________________________________________________________________________\n",
            "conv2_block1_3_conv (Conv2D)    (None, 56, 56, 256)  16640       conv2_block1_2_relu[0][0]        \n",
            "__________________________________________________________________________________________________\n",
            "conv2_block1_0_bn (BatchNormali (None, 56, 56, 256)  1024        conv2_block1_0_conv[0][0]        \n",
            "__________________________________________________________________________________________________\n",
            "conv2_block1_3_bn (BatchNormali (None, 56, 56, 256)  1024        conv2_block1_3_conv[0][0]        \n",
            "__________________________________________________________________________________________________\n",
            "conv2_block1_add (Add)          (None, 56, 56, 256)  0           conv2_block1_0_bn[0][0]          \n",
            "                                                                 conv2_block1_3_bn[0][0]          \n",
            "__________________________________________________________________________________________________\n",
            "conv2_block1_out (Activation)   (None, 56, 56, 256)  0           conv2_block1_add[0][0]           \n",
            "__________________________________________________________________________________________________\n",
            "conv2_block2_1_conv (Conv2D)    (None, 56, 56, 64)   16448       conv2_block1_out[0][0]           \n",
            "__________________________________________________________________________________________________\n",
            "conv2_block2_1_bn (BatchNormali (None, 56, 56, 64)   256         conv2_block2_1_conv[0][0]        \n",
            "__________________________________________________________________________________________________\n",
            "conv2_block2_1_relu (Activation (None, 56, 56, 64)   0           conv2_block2_1_bn[0][0]          \n",
            "__________________________________________________________________________________________________\n",
            "conv2_block2_2_conv (Conv2D)    (None, 56, 56, 64)   36928       conv2_block2_1_relu[0][0]        \n",
            "__________________________________________________________________________________________________\n",
            "conv2_block2_2_bn (BatchNormali (None, 56, 56, 64)   256         conv2_block2_2_conv[0][0]        \n",
            "__________________________________________________________________________________________________\n",
            "conv2_block2_2_relu (Activation (None, 56, 56, 64)   0           conv2_block2_2_bn[0][0]          \n",
            "__________________________________________________________________________________________________\n",
            "conv2_block2_3_conv (Conv2D)    (None, 56, 56, 256)  16640       conv2_block2_2_relu[0][0]        \n",
            "__________________________________________________________________________________________________\n",
            "conv2_block2_3_bn (BatchNormali (None, 56, 56, 256)  1024        conv2_block2_3_conv[0][0]        \n",
            "__________________________________________________________________________________________________\n",
            "conv2_block2_add (Add)          (None, 56, 56, 256)  0           conv2_block1_out[0][0]           \n",
            "                                                                 conv2_block2_3_bn[0][0]          \n",
            "__________________________________________________________________________________________________\n",
            "conv2_block2_out (Activation)   (None, 56, 56, 256)  0           conv2_block2_add[0][0]           \n",
            "__________________________________________________________________________________________________\n",
            "conv2_block3_1_conv (Conv2D)    (None, 56, 56, 64)   16448       conv2_block2_out[0][0]           \n",
            "__________________________________________________________________________________________________\n",
            "conv2_block3_1_bn (BatchNormali (None, 56, 56, 64)   256         conv2_block3_1_conv[0][0]        \n",
            "__________________________________________________________________________________________________\n",
            "conv2_block3_1_relu (Activation (None, 56, 56, 64)   0           conv2_block3_1_bn[0][0]          \n",
            "__________________________________________________________________________________________________\n",
            "conv2_block3_2_conv (Conv2D)    (None, 56, 56, 64)   36928       conv2_block3_1_relu[0][0]        \n",
            "__________________________________________________________________________________________________\n",
            "conv2_block3_2_bn (BatchNormali (None, 56, 56, 64)   256         conv2_block3_2_conv[0][0]        \n",
            "__________________________________________________________________________________________________\n",
            "conv2_block3_2_relu (Activation (None, 56, 56, 64)   0           conv2_block3_2_bn[0][0]          \n",
            "__________________________________________________________________________________________________\n",
            "conv2_block3_3_conv (Conv2D)    (None, 56, 56, 256)  16640       conv2_block3_2_relu[0][0]        \n",
            "__________________________________________________________________________________________________\n",
            "conv2_block3_3_bn (BatchNormali (None, 56, 56, 256)  1024        conv2_block3_3_conv[0][0]        \n",
            "__________________________________________________________________________________________________\n",
            "conv2_block3_add (Add)          (None, 56, 56, 256)  0           conv2_block2_out[0][0]           \n",
            "                                                                 conv2_block3_3_bn[0][0]          \n",
            "__________________________________________________________________________________________________\n",
            "conv2_block3_out (Activation)   (None, 56, 56, 256)  0           conv2_block3_add[0][0]           \n",
            "__________________________________________________________________________________________________\n",
            "conv3_block1_1_conv (Conv2D)    (None, 28, 28, 128)  32896       conv2_block3_out[0][0]           \n",
            "__________________________________________________________________________________________________\n",
            "conv3_block1_1_bn (BatchNormali (None, 28, 28, 128)  512         conv3_block1_1_conv[0][0]        \n",
            "__________________________________________________________________________________________________\n",
            "conv3_block1_1_relu (Activation (None, 28, 28, 128)  0           conv3_block1_1_bn[0][0]          \n",
            "__________________________________________________________________________________________________\n",
            "conv3_block1_2_conv (Conv2D)    (None, 28, 28, 128)  147584      conv3_block1_1_relu[0][0]        \n",
            "__________________________________________________________________________________________________\n",
            "conv3_block1_2_bn (BatchNormali (None, 28, 28, 128)  512         conv3_block1_2_conv[0][0]        \n",
            "__________________________________________________________________________________________________\n",
            "conv3_block1_2_relu (Activation (None, 28, 28, 128)  0           conv3_block1_2_bn[0][0]          \n",
            "__________________________________________________________________________________________________\n",
            "conv3_block1_0_conv (Conv2D)    (None, 28, 28, 512)  131584      conv2_block3_out[0][0]           \n",
            "__________________________________________________________________________________________________\n",
            "conv3_block1_3_conv (Conv2D)    (None, 28, 28, 512)  66048       conv3_block1_2_relu[0][0]        \n",
            "__________________________________________________________________________________________________\n",
            "conv3_block1_0_bn (BatchNormali (None, 28, 28, 512)  2048        conv3_block1_0_conv[0][0]        \n",
            "__________________________________________________________________________________________________\n",
            "conv3_block1_3_bn (BatchNormali (None, 28, 28, 512)  2048        conv3_block1_3_conv[0][0]        \n",
            "__________________________________________________________________________________________________\n",
            "conv3_block1_add (Add)          (None, 28, 28, 512)  0           conv3_block1_0_bn[0][0]          \n",
            "                                                                 conv3_block1_3_bn[0][0]          \n",
            "__________________________________________________________________________________________________\n",
            "conv3_block1_out (Activation)   (None, 28, 28, 512)  0           conv3_block1_add[0][0]           \n",
            "__________________________________________________________________________________________________\n",
            "conv3_block2_1_conv (Conv2D)    (None, 28, 28, 128)  65664       conv3_block1_out[0][0]           \n",
            "__________________________________________________________________________________________________\n",
            "conv3_block2_1_bn (BatchNormali (None, 28, 28, 128)  512         conv3_block2_1_conv[0][0]        \n",
            "__________________________________________________________________________________________________\n",
            "conv3_block2_1_relu (Activation (None, 28, 28, 128)  0           conv3_block2_1_bn[0][0]          \n",
            "__________________________________________________________________________________________________\n",
            "conv3_block2_2_conv (Conv2D)    (None, 28, 28, 128)  147584      conv3_block2_1_relu[0][0]        \n",
            "__________________________________________________________________________________________________\n",
            "conv3_block2_2_bn (BatchNormali (None, 28, 28, 128)  512         conv3_block2_2_conv[0][0]        \n",
            "__________________________________________________________________________________________________\n",
            "conv3_block2_2_relu (Activation (None, 28, 28, 128)  0           conv3_block2_2_bn[0][0]          \n",
            "__________________________________________________________________________________________________\n",
            "conv3_block2_3_conv (Conv2D)    (None, 28, 28, 512)  66048       conv3_block2_2_relu[0][0]        \n",
            "__________________________________________________________________________________________________\n",
            "conv3_block2_3_bn (BatchNormali (None, 28, 28, 512)  2048        conv3_block2_3_conv[0][0]        \n",
            "__________________________________________________________________________________________________\n",
            "conv3_block2_add (Add)          (None, 28, 28, 512)  0           conv3_block1_out[0][0]           \n",
            "                                                                 conv3_block2_3_bn[0][0]          \n",
            "__________________________________________________________________________________________________\n",
            "conv3_block2_out (Activation)   (None, 28, 28, 512)  0           conv3_block2_add[0][0]           \n",
            "__________________________________________________________________________________________________\n",
            "conv3_block3_1_conv (Conv2D)    (None, 28, 28, 128)  65664       conv3_block2_out[0][0]           \n",
            "__________________________________________________________________________________________________\n",
            "conv3_block3_1_bn (BatchNormali (None, 28, 28, 128)  512         conv3_block3_1_conv[0][0]        \n",
            "__________________________________________________________________________________________________\n",
            "conv3_block3_1_relu (Activation (None, 28, 28, 128)  0           conv3_block3_1_bn[0][0]          \n",
            "__________________________________________________________________________________________________\n",
            "conv3_block3_2_conv (Conv2D)    (None, 28, 28, 128)  147584      conv3_block3_1_relu[0][0]        \n",
            "__________________________________________________________________________________________________\n",
            "conv3_block3_2_bn (BatchNormali (None, 28, 28, 128)  512         conv3_block3_2_conv[0][0]        \n",
            "__________________________________________________________________________________________________\n",
            "conv3_block3_2_relu (Activation (None, 28, 28, 128)  0           conv3_block3_2_bn[0][0]          \n",
            "__________________________________________________________________________________________________\n",
            "conv3_block3_3_conv (Conv2D)    (None, 28, 28, 512)  66048       conv3_block3_2_relu[0][0]        \n",
            "__________________________________________________________________________________________________\n",
            "conv3_block3_3_bn (BatchNormali (None, 28, 28, 512)  2048        conv3_block3_3_conv[0][0]        \n",
            "__________________________________________________________________________________________________\n",
            "conv3_block3_add (Add)          (None, 28, 28, 512)  0           conv3_block2_out[0][0]           \n",
            "                                                                 conv3_block3_3_bn[0][0]          \n",
            "__________________________________________________________________________________________________\n",
            "conv3_block3_out (Activation)   (None, 28, 28, 512)  0           conv3_block3_add[0][0]           \n",
            "__________________________________________________________________________________________________\n",
            "conv3_block4_1_conv (Conv2D)    (None, 28, 28, 128)  65664       conv3_block3_out[0][0]           \n",
            "__________________________________________________________________________________________________\n",
            "conv3_block4_1_bn (BatchNormali (None, 28, 28, 128)  512         conv3_block4_1_conv[0][0]        \n",
            "__________________________________________________________________________________________________\n",
            "conv3_block4_1_relu (Activation (None, 28, 28, 128)  0           conv3_block4_1_bn[0][0]          \n",
            "__________________________________________________________________________________________________\n",
            "conv3_block4_2_conv (Conv2D)    (None, 28, 28, 128)  147584      conv3_block4_1_relu[0][0]        \n",
            "__________________________________________________________________________________________________\n",
            "conv3_block4_2_bn (BatchNormali (None, 28, 28, 128)  512         conv3_block4_2_conv[0][0]        \n",
            "__________________________________________________________________________________________________\n",
            "conv3_block4_2_relu (Activation (None, 28, 28, 128)  0           conv3_block4_2_bn[0][0]          \n",
            "__________________________________________________________________________________________________\n",
            "conv3_block4_3_conv (Conv2D)    (None, 28, 28, 512)  66048       conv3_block4_2_relu[0][0]        \n",
            "__________________________________________________________________________________________________\n",
            "conv3_block4_3_bn (BatchNormali (None, 28, 28, 512)  2048        conv3_block4_3_conv[0][0]        \n",
            "__________________________________________________________________________________________________\n",
            "conv3_block4_add (Add)          (None, 28, 28, 512)  0           conv3_block3_out[0][0]           \n",
            "                                                                 conv3_block4_3_bn[0][0]          \n",
            "__________________________________________________________________________________________________\n",
            "conv3_block4_out (Activation)   (None, 28, 28, 512)  0           conv3_block4_add[0][0]           \n",
            "__________________________________________________________________________________________________\n",
            "conv4_block1_1_conv (Conv2D)    (None, 14, 14, 256)  131328      conv3_block4_out[0][0]           \n",
            "__________________________________________________________________________________________________\n",
            "conv4_block1_1_bn (BatchNormali (None, 14, 14, 256)  1024        conv4_block1_1_conv[0][0]        \n",
            "__________________________________________________________________________________________________\n",
            "conv4_block1_1_relu (Activation (None, 14, 14, 256)  0           conv4_block1_1_bn[0][0]          \n",
            "__________________________________________________________________________________________________\n",
            "conv4_block1_2_conv (Conv2D)    (None, 14, 14, 256)  590080      conv4_block1_1_relu[0][0]        \n",
            "__________________________________________________________________________________________________\n",
            "conv4_block1_2_bn (BatchNormali (None, 14, 14, 256)  1024        conv4_block1_2_conv[0][0]        \n",
            "__________________________________________________________________________________________________\n",
            "conv4_block1_2_relu (Activation (None, 14, 14, 256)  0           conv4_block1_2_bn[0][0]          \n",
            "__________________________________________________________________________________________________\n",
            "conv4_block1_0_conv (Conv2D)    (None, 14, 14, 1024) 525312      conv3_block4_out[0][0]           \n",
            "__________________________________________________________________________________________________\n",
            "conv4_block1_3_conv (Conv2D)    (None, 14, 14, 1024) 263168      conv4_block1_2_relu[0][0]        \n",
            "__________________________________________________________________________________________________\n",
            "conv4_block1_0_bn (BatchNormali (None, 14, 14, 1024) 4096        conv4_block1_0_conv[0][0]        \n",
            "__________________________________________________________________________________________________\n",
            "conv4_block1_3_bn (BatchNormali (None, 14, 14, 1024) 4096        conv4_block1_3_conv[0][0]        \n",
            "__________________________________________________________________________________________________\n",
            "conv4_block1_add (Add)          (None, 14, 14, 1024) 0           conv4_block1_0_bn[0][0]          \n",
            "                                                                 conv4_block1_3_bn[0][0]          \n",
            "__________________________________________________________________________________________________\n",
            "conv4_block1_out (Activation)   (None, 14, 14, 1024) 0           conv4_block1_add[0][0]           \n",
            "__________________________________________________________________________________________________\n",
            "conv4_block2_1_conv (Conv2D)    (None, 14, 14, 256)  262400      conv4_block1_out[0][0]           \n",
            "__________________________________________________________________________________________________\n",
            "conv4_block2_1_bn (BatchNormali (None, 14, 14, 256)  1024        conv4_block2_1_conv[0][0]        \n",
            "__________________________________________________________________________________________________\n",
            "conv4_block2_1_relu (Activation (None, 14, 14, 256)  0           conv4_block2_1_bn[0][0]          \n",
            "__________________________________________________________________________________________________\n",
            "conv4_block2_2_conv (Conv2D)    (None, 14, 14, 256)  590080      conv4_block2_1_relu[0][0]        \n",
            "__________________________________________________________________________________________________\n",
            "conv4_block2_2_bn (BatchNormali (None, 14, 14, 256)  1024        conv4_block2_2_conv[0][0]        \n",
            "__________________________________________________________________________________________________\n",
            "conv4_block2_2_relu (Activation (None, 14, 14, 256)  0           conv4_block2_2_bn[0][0]          \n",
            "__________________________________________________________________________________________________\n",
            "conv4_block2_3_conv (Conv2D)    (None, 14, 14, 1024) 263168      conv4_block2_2_relu[0][0]        \n",
            "__________________________________________________________________________________________________\n",
            "conv4_block2_3_bn (BatchNormali (None, 14, 14, 1024) 4096        conv4_block2_3_conv[0][0]        \n",
            "__________________________________________________________________________________________________\n",
            "conv4_block2_add (Add)          (None, 14, 14, 1024) 0           conv4_block1_out[0][0]           \n",
            "                                                                 conv4_block2_3_bn[0][0]          \n",
            "__________________________________________________________________________________________________\n",
            "conv4_block2_out (Activation)   (None, 14, 14, 1024) 0           conv4_block2_add[0][0]           \n",
            "__________________________________________________________________________________________________\n",
            "conv4_block3_1_conv (Conv2D)    (None, 14, 14, 256)  262400      conv4_block2_out[0][0]           \n",
            "__________________________________________________________________________________________________\n",
            "conv4_block3_1_bn (BatchNormali (None, 14, 14, 256)  1024        conv4_block3_1_conv[0][0]        \n",
            "__________________________________________________________________________________________________\n",
            "conv4_block3_1_relu (Activation (None, 14, 14, 256)  0           conv4_block3_1_bn[0][0]          \n",
            "__________________________________________________________________________________________________\n",
            "conv4_block3_2_conv (Conv2D)    (None, 14, 14, 256)  590080      conv4_block3_1_relu[0][0]        \n",
            "__________________________________________________________________________________________________\n",
            "conv4_block3_2_bn (BatchNormali (None, 14, 14, 256)  1024        conv4_block3_2_conv[0][0]        \n",
            "__________________________________________________________________________________________________\n",
            "conv4_block3_2_relu (Activation (None, 14, 14, 256)  0           conv4_block3_2_bn[0][0]          \n",
            "__________________________________________________________________________________________________\n",
            "conv4_block3_3_conv (Conv2D)    (None, 14, 14, 1024) 263168      conv4_block3_2_relu[0][0]        \n",
            "__________________________________________________________________________________________________\n",
            "conv4_block3_3_bn (BatchNormali (None, 14, 14, 1024) 4096        conv4_block3_3_conv[0][0]        \n",
            "__________________________________________________________________________________________________\n",
            "conv4_block3_add (Add)          (None, 14, 14, 1024) 0           conv4_block2_out[0][0]           \n",
            "                                                                 conv4_block3_3_bn[0][0]          \n",
            "__________________________________________________________________________________________________\n",
            "conv4_block3_out (Activation)   (None, 14, 14, 1024) 0           conv4_block3_add[0][0]           \n",
            "__________________________________________________________________________________________________\n",
            "conv4_block4_1_conv (Conv2D)    (None, 14, 14, 256)  262400      conv4_block3_out[0][0]           \n",
            "__________________________________________________________________________________________________\n",
            "conv4_block4_1_bn (BatchNormali (None, 14, 14, 256)  1024        conv4_block4_1_conv[0][0]        \n",
            "__________________________________________________________________________________________________\n",
            "conv4_block4_1_relu (Activation (None, 14, 14, 256)  0           conv4_block4_1_bn[0][0]          \n",
            "__________________________________________________________________________________________________\n",
            "conv4_block4_2_conv (Conv2D)    (None, 14, 14, 256)  590080      conv4_block4_1_relu[0][0]        \n",
            "__________________________________________________________________________________________________\n",
            "conv4_block4_2_bn (BatchNormali (None, 14, 14, 256)  1024        conv4_block4_2_conv[0][0]        \n",
            "__________________________________________________________________________________________________\n",
            "conv4_block4_2_relu (Activation (None, 14, 14, 256)  0           conv4_block4_2_bn[0][0]          \n",
            "__________________________________________________________________________________________________\n",
            "conv4_block4_3_conv (Conv2D)    (None, 14, 14, 1024) 263168      conv4_block4_2_relu[0][0]        \n",
            "__________________________________________________________________________________________________\n",
            "conv4_block4_3_bn (BatchNormali (None, 14, 14, 1024) 4096        conv4_block4_3_conv[0][0]        \n",
            "__________________________________________________________________________________________________\n",
            "conv4_block4_add (Add)          (None, 14, 14, 1024) 0           conv4_block3_out[0][0]           \n",
            "                                                                 conv4_block4_3_bn[0][0]          \n",
            "__________________________________________________________________________________________________\n",
            "conv4_block4_out (Activation)   (None, 14, 14, 1024) 0           conv4_block4_add[0][0]           \n",
            "__________________________________________________________________________________________________\n",
            "conv4_block5_1_conv (Conv2D)    (None, 14, 14, 256)  262400      conv4_block4_out[0][0]           \n",
            "__________________________________________________________________________________________________\n",
            "conv4_block5_1_bn (BatchNormali (None, 14, 14, 256)  1024        conv4_block5_1_conv[0][0]        \n",
            "__________________________________________________________________________________________________\n",
            "conv4_block5_1_relu (Activation (None, 14, 14, 256)  0           conv4_block5_1_bn[0][0]          \n",
            "__________________________________________________________________________________________________\n",
            "conv4_block5_2_conv (Conv2D)    (None, 14, 14, 256)  590080      conv4_block5_1_relu[0][0]        \n",
            "__________________________________________________________________________________________________\n",
            "conv4_block5_2_bn (BatchNormali (None, 14, 14, 256)  1024        conv4_block5_2_conv[0][0]        \n",
            "__________________________________________________________________________________________________\n",
            "conv4_block5_2_relu (Activation (None, 14, 14, 256)  0           conv4_block5_2_bn[0][0]          \n",
            "__________________________________________________________________________________________________\n",
            "conv4_block5_3_conv (Conv2D)    (None, 14, 14, 1024) 263168      conv4_block5_2_relu[0][0]        \n",
            "__________________________________________________________________________________________________\n",
            "conv4_block5_3_bn (BatchNormali (None, 14, 14, 1024) 4096        conv4_block5_3_conv[0][0]        \n",
            "__________________________________________________________________________________________________\n",
            "conv4_block5_add (Add)          (None, 14, 14, 1024) 0           conv4_block4_out[0][0]           \n",
            "                                                                 conv4_block5_3_bn[0][0]          \n",
            "__________________________________________________________________________________________________\n",
            "conv4_block5_out (Activation)   (None, 14, 14, 1024) 0           conv4_block5_add[0][0]           \n",
            "__________________________________________________________________________________________________\n",
            "conv4_block6_1_conv (Conv2D)    (None, 14, 14, 256)  262400      conv4_block5_out[0][0]           \n",
            "__________________________________________________________________________________________________\n",
            "conv4_block6_1_bn (BatchNormali (None, 14, 14, 256)  1024        conv4_block6_1_conv[0][0]        \n",
            "__________________________________________________________________________________________________\n",
            "conv4_block6_1_relu (Activation (None, 14, 14, 256)  0           conv4_block6_1_bn[0][0]          \n",
            "__________________________________________________________________________________________________\n",
            "conv4_block6_2_conv (Conv2D)    (None, 14, 14, 256)  590080      conv4_block6_1_relu[0][0]        \n",
            "__________________________________________________________________________________________________\n",
            "conv4_block6_2_bn (BatchNormali (None, 14, 14, 256)  1024        conv4_block6_2_conv[0][0]        \n",
            "__________________________________________________________________________________________________\n",
            "conv4_block6_2_relu (Activation (None, 14, 14, 256)  0           conv4_block6_2_bn[0][0]          \n",
            "__________________________________________________________________________________________________\n",
            "conv4_block6_3_conv (Conv2D)    (None, 14, 14, 1024) 263168      conv4_block6_2_relu[0][0]        \n",
            "__________________________________________________________________________________________________\n",
            "conv4_block6_3_bn (BatchNormali (None, 14, 14, 1024) 4096        conv4_block6_3_conv[0][0]        \n",
            "__________________________________________________________________________________________________\n",
            "conv4_block6_add (Add)          (None, 14, 14, 1024) 0           conv4_block5_out[0][0]           \n",
            "                                                                 conv4_block6_3_bn[0][0]          \n",
            "__________________________________________________________________________________________________\n",
            "conv4_block6_out (Activation)   (None, 14, 14, 1024) 0           conv4_block6_add[0][0]           \n",
            "__________________________________________________________________________________________________\n",
            "conv5_block1_1_conv (Conv2D)    (None, 7, 7, 512)    524800      conv4_block6_out[0][0]           \n",
            "__________________________________________________________________________________________________\n",
            "conv5_block1_1_bn (BatchNormali (None, 7, 7, 512)    2048        conv5_block1_1_conv[0][0]        \n",
            "__________________________________________________________________________________________________\n",
            "conv5_block1_1_relu (Activation (None, 7, 7, 512)    0           conv5_block1_1_bn[0][0]          \n",
            "__________________________________________________________________________________________________\n",
            "conv5_block1_2_conv (Conv2D)    (None, 7, 7, 512)    2359808     conv5_block1_1_relu[0][0]        \n",
            "__________________________________________________________________________________________________\n",
            "conv5_block1_2_bn (BatchNormali (None, 7, 7, 512)    2048        conv5_block1_2_conv[0][0]        \n",
            "__________________________________________________________________________________________________\n",
            "conv5_block1_2_relu (Activation (None, 7, 7, 512)    0           conv5_block1_2_bn[0][0]          \n",
            "__________________________________________________________________________________________________\n",
            "conv5_block1_0_conv (Conv2D)    (None, 7, 7, 2048)   2099200     conv4_block6_out[0][0]           \n",
            "__________________________________________________________________________________________________\n",
            "conv5_block1_3_conv (Conv2D)    (None, 7, 7, 2048)   1050624     conv5_block1_2_relu[0][0]        \n",
            "__________________________________________________________________________________________________\n",
            "conv5_block1_0_bn (BatchNormali (None, 7, 7, 2048)   8192        conv5_block1_0_conv[0][0]        \n",
            "__________________________________________________________________________________________________\n",
            "conv5_block1_3_bn (BatchNormali (None, 7, 7, 2048)   8192        conv5_block1_3_conv[0][0]        \n",
            "__________________________________________________________________________________________________\n",
            "conv5_block1_add (Add)          (None, 7, 7, 2048)   0           conv5_block1_0_bn[0][0]          \n",
            "                                                                 conv5_block1_3_bn[0][0]          \n",
            "__________________________________________________________________________________________________\n",
            "conv5_block1_out (Activation)   (None, 7, 7, 2048)   0           conv5_block1_add[0][0]           \n",
            "__________________________________________________________________________________________________\n",
            "conv5_block2_1_conv (Conv2D)    (None, 7, 7, 512)    1049088     conv5_block1_out[0][0]           \n",
            "__________________________________________________________________________________________________\n",
            "conv5_block2_1_bn (BatchNormali (None, 7, 7, 512)    2048        conv5_block2_1_conv[0][0]        \n",
            "__________________________________________________________________________________________________\n",
            "conv5_block2_1_relu (Activation (None, 7, 7, 512)    0           conv5_block2_1_bn[0][0]          \n",
            "__________________________________________________________________________________________________\n",
            "conv5_block2_2_conv (Conv2D)    (None, 7, 7, 512)    2359808     conv5_block2_1_relu[0][0]        \n",
            "__________________________________________________________________________________________________\n",
            "conv5_block2_2_bn (BatchNormali (None, 7, 7, 512)    2048        conv5_block2_2_conv[0][0]        \n",
            "__________________________________________________________________________________________________\n",
            "conv5_block2_2_relu (Activation (None, 7, 7, 512)    0           conv5_block2_2_bn[0][0]          \n",
            "__________________________________________________________________________________________________\n",
            "conv5_block2_3_conv (Conv2D)    (None, 7, 7, 2048)   1050624     conv5_block2_2_relu[0][0]        \n",
            "__________________________________________________________________________________________________\n",
            "conv5_block2_3_bn (BatchNormali (None, 7, 7, 2048)   8192        conv5_block2_3_conv[0][0]        \n",
            "__________________________________________________________________________________________________\n",
            "conv5_block2_add (Add)          (None, 7, 7, 2048)   0           conv5_block1_out[0][0]           \n",
            "                                                                 conv5_block2_3_bn[0][0]          \n",
            "__________________________________________________________________________________________________\n",
            "conv5_block2_out (Activation)   (None, 7, 7, 2048)   0           conv5_block2_add[0][0]           \n",
            "__________________________________________________________________________________________________\n",
            "conv5_block3_1_conv (Conv2D)    (None, 7, 7, 512)    1049088     conv5_block2_out[0][0]           \n",
            "__________________________________________________________________________________________________\n",
            "conv5_block3_1_bn (BatchNormali (None, 7, 7, 512)    2048        conv5_block3_1_conv[0][0]        \n",
            "__________________________________________________________________________________________________\n",
            "conv5_block3_1_relu (Activation (None, 7, 7, 512)    0           conv5_block3_1_bn[0][0]          \n",
            "__________________________________________________________________________________________________\n",
            "conv5_block3_2_conv (Conv2D)    (None, 7, 7, 512)    2359808     conv5_block3_1_relu[0][0]        \n",
            "__________________________________________________________________________________________________\n",
            "conv5_block3_2_bn (BatchNormali (None, 7, 7, 512)    2048        conv5_block3_2_conv[0][0]        \n",
            "__________________________________________________________________________________________________\n",
            "conv5_block3_2_relu (Activation (None, 7, 7, 512)    0           conv5_block3_2_bn[0][0]          \n",
            "__________________________________________________________________________________________________\n",
            "conv5_block3_3_conv (Conv2D)    (None, 7, 7, 2048)   1050624     conv5_block3_2_relu[0][0]        \n",
            "__________________________________________________________________________________________________\n",
            "conv5_block3_3_bn (BatchNormali (None, 7, 7, 2048)   8192        conv5_block3_3_conv[0][0]        \n",
            "__________________________________________________________________________________________________\n",
            "conv5_block3_add (Add)          (None, 7, 7, 2048)   0           conv5_block2_out[0][0]           \n",
            "                                                                 conv5_block3_3_bn[0][0]          \n",
            "__________________________________________________________________________________________________\n",
            "conv5_block3_out (Activation)   (None, 7, 7, 2048)   0           conv5_block3_add[0][0]           \n",
            "__________________________________________________________________________________________________\n",
            "flatten (Flatten)               (None, 100352)       0           conv5_block3_out[0][0]           \n",
            "__________________________________________________________________________________________________\n",
            "dense (Dense)                   (None, 3)            301059      flatten[0][0]                    \n",
            "==================================================================================================\n",
            "Total params: 23,888,771\n",
            "Trainable params: 301,059\n",
            "Non-trainable params: 23,587,712\n",
            "__________________________________________________________________________________________________\n"
          ],
          "name": "stdout"
        }
      ]
    },
    {
      "cell_type": "markdown",
      "metadata": {
        "id": "PhgCuHUViKbv",
        "colab_type": "text"
      },
      "source": [
        "* We have got the 3 nodes as my output this basically means that the number of outputs present with respect to our problem statement is 3 "
      ]
    },
    {
      "cell_type": "code",
      "metadata": {
        "id": "mMeh9rRqh6fg",
        "colab_type": "code",
        "colab": {}
      },
      "source": [
        "# Compiling our model\n",
        "model.compile(loss = 'categorical_crossentropy', optimizer='adam', metrics=['accuracy'])"
      ],
      "execution_count": null,
      "outputs": []
    },
    {
      "cell_type": "markdown",
      "metadata": {
        "id": "Ct1Ykam9oWYk",
        "colab_type": "text"
      },
      "source": [
        "* Now we need to read all the images from the folders.\n",
        "* When we'll be reading our images from our folder we should make sure that we also need to do some data augmentation.\n",
        "* Now the data augmentation can be done by `ImageDataGenerator`.\n",
        "* The `ImageDataGenerator` what does it reads the images from the folders and then it applies some kind of augmentation like zooming, scaling, horizontal/vertical flipping\n",
        "* **IN THE TEST DATA WE SHOULD NEVER DO DATA AUGMENTATION WE JUST HAVE TO PERFORM SCALING**"
      ]
    },
    {
      "cell_type": "code",
      "metadata": {
        "id": "eK8moCT0h0ZT",
        "colab_type": "code",
        "colab": {}
      },
      "source": [
        "from tensorflow.keras.preprocessing.image import ImageDataGenerator\n",
        "\n",
        "# Scaling all the images between 0 to 1\n",
        "train_datagen = ImageDataGenerator(rescale=1./255, shear_range = 0.2, zoom_range=0.2, horizontal_flip=True)\n",
        "\n",
        "# WE SHOULD NOT PERFORM DATA AUGMENTATION ON THE TEST DATASET\n",
        "test_datagen = ImageDataGenerator(rescale=1./255)"
      ],
      "execution_count": null,
      "outputs": []
    },
    {
      "cell_type": "code",
      "metadata": {
        "id": "VeTxX4Ccspw_",
        "colab_type": "code",
        "colab": {
          "base_uri": "https://localhost:8080/",
          "height": 34
        },
        "outputId": "58900fa1-ebe7-406f-c594-94ef1bcd1569"
      },
      "source": [
        "# flow_from_directory means i am applying all the train_datagen techniques to all the images\n",
        "# We need to provide the same traget_size as initialized in the IMAGE_SIZE\n",
        "# If you have more than two classes we should use class_mode = categorical\n",
        "# But if we have just two classses we can use class_mode = binary\n",
        "\n",
        "training_set = train_datagen.flow_from_directory('/content/drive/My Drive/image_dataset/Train',\n",
        "                                                 target_size = (224,224),\n",
        "                                                 batch_size = 32,\n",
        "                                                 class_mode = 'categorical')"
      ],
      "execution_count": null,
      "outputs": [
        {
          "output_type": "stream",
          "text": [
            "Found 64 images belonging to 3 classes.\n"
          ],
          "name": "stdout"
        }
      ]
    },
    {
      "cell_type": "code",
      "metadata": {
        "id": "SOtU3U6et40L",
        "colab_type": "code",
        "colab": {
          "base_uri": "https://localhost:8080/",
          "height": 34
        },
        "outputId": "da53fab1-cb6f-4cf7-c7f7-f91ce4b871a4"
      },
      "source": [
        "# Applying same technique to the test set\n",
        "test_set = test_datagen.flow_from_directory('/content/drive/My Drive/image_dataset/Test',\n",
        "                                            target_size = (224,224),\n",
        "                                            batch_size = 32,\n",
        "                                            class_mode = 'categorical')"
      ],
      "execution_count": null,
      "outputs": [
        {
          "output_type": "stream",
          "text": [
            "Found 58 images belonging to 3 classes.\n"
          ],
          "name": "stdout"
        }
      ]
    },
    {
      "cell_type": "code",
      "metadata": {
        "id": "Vpqb8kz50BP7",
        "colab_type": "code",
        "colab": {
          "base_uri": "https://localhost:8080/",
          "height": 1000
        },
        "outputId": "4f5aa939-f95e-41e9-9db5-d0f4ad023b71"
      },
      "source": [
        "# Fitting our model\n",
        "\n",
        "r = model.fit_generator(training_set, validation_data=test_set, epochs=100, steps_per_epoch=len(training_set), validation_steps=len(test_set))"
      ],
      "execution_count": null,
      "outputs": [
        {
          "output_type": "stream",
          "text": [
            "WARNING:tensorflow:From <ipython-input-19-e61ada90c15b>:3: Model.fit_generator (from tensorflow.python.keras.engine.training) is deprecated and will be removed in a future version.\n",
            "Instructions for updating:\n",
            "Please use Model.fit, which supports generators.\n",
            "Epoch 1/100\n",
            "2/2 [==============================] - 58s 29s/step - loss: 4.8893 - accuracy: 0.3594 - val_loss: 9.5430 - val_accuracy: 0.5172\n",
            "Epoch 2/100\n",
            "2/2 [==============================] - 1s 572ms/step - loss: 10.4864 - accuracy: 0.3125 - val_loss: 5.5423 - val_accuracy: 0.1552\n",
            "Epoch 3/100\n",
            "2/2 [==============================] - 1s 547ms/step - loss: 4.3185 - accuracy: 0.2500 - val_loss: 4.6158 - val_accuracy: 0.3276\n",
            "Epoch 4/100\n",
            "2/2 [==============================] - 1s 558ms/step - loss: 5.2252 - accuracy: 0.3906 - val_loss: 5.4389 - val_accuracy: 0.3276\n",
            "Epoch 5/100\n",
            "2/2 [==============================] - 1s 553ms/step - loss: 3.7588 - accuracy: 0.3906 - val_loss: 1.5495 - val_accuracy: 0.5517\n",
            "Epoch 6/100\n",
            "2/2 [==============================] - 1s 549ms/step - loss: 2.1858 - accuracy: 0.4062 - val_loss: 3.9662 - val_accuracy: 0.2759\n",
            "Epoch 7/100\n",
            "2/2 [==============================] - 1s 554ms/step - loss: 3.5435 - accuracy: 0.5156 - val_loss: 3.2771 - val_accuracy: 0.5345\n",
            "Epoch 8/100\n",
            "2/2 [==============================] - 1s 557ms/step - loss: 2.5175 - accuracy: 0.5469 - val_loss: 1.1484 - val_accuracy: 0.5517\n",
            "Epoch 9/100\n",
            "2/2 [==============================] - 1s 567ms/step - loss: 1.0656 - accuracy: 0.6094 - val_loss: 3.8353 - val_accuracy: 0.3276\n",
            "Epoch 10/100\n",
            "2/2 [==============================] - 1s 593ms/step - loss: 2.3526 - accuracy: 0.4375 - val_loss: 1.9760 - val_accuracy: 0.3621\n",
            "Epoch 11/100\n",
            "2/2 [==============================] - 1s 589ms/step - loss: 1.0679 - accuracy: 0.6094 - val_loss: 1.6664 - val_accuracy: 0.5862\n",
            "Epoch 12/100\n",
            "2/2 [==============================] - 1s 598ms/step - loss: 1.5868 - accuracy: 0.5781 - val_loss: 1.7737 - val_accuracy: 0.5862\n",
            "Epoch 13/100\n",
            "2/2 [==============================] - 1s 589ms/step - loss: 1.0362 - accuracy: 0.6562 - val_loss: 1.5157 - val_accuracy: 0.4483\n",
            "Epoch 14/100\n",
            "2/2 [==============================] - 1s 588ms/step - loss: 0.9662 - accuracy: 0.6406 - val_loss: 2.3806 - val_accuracy: 0.3621\n",
            "Epoch 15/100\n",
            "2/2 [==============================] - 1s 557ms/step - loss: 1.0801 - accuracy: 0.5938 - val_loss: 1.1536 - val_accuracy: 0.5345\n",
            "Epoch 16/100\n",
            "2/2 [==============================] - 1s 548ms/step - loss: 0.5664 - accuracy: 0.7344 - val_loss: 1.3675 - val_accuracy: 0.6379\n",
            "Epoch 17/100\n",
            "2/2 [==============================] - 1s 554ms/step - loss: 0.9120 - accuracy: 0.6562 - val_loss: 1.0729 - val_accuracy: 0.5690\n",
            "Epoch 18/100\n",
            "2/2 [==============================] - 1s 558ms/step - loss: 0.5694 - accuracy: 0.7500 - val_loss: 1.8013 - val_accuracy: 0.4310\n",
            "Epoch 19/100\n",
            "2/2 [==============================] - 1s 551ms/step - loss: 0.8394 - accuracy: 0.6875 - val_loss: 1.1202 - val_accuracy: 0.5517\n",
            "Epoch 20/100\n",
            "2/2 [==============================] - 1s 553ms/step - loss: 0.4938 - accuracy: 0.7344 - val_loss: 1.1076 - val_accuracy: 0.6379\n",
            "Epoch 21/100\n",
            "2/2 [==============================] - 1s 554ms/step - loss: 0.7268 - accuracy: 0.7031 - val_loss: 0.9718 - val_accuracy: 0.6207\n",
            "Epoch 22/100\n",
            "2/2 [==============================] - 1s 550ms/step - loss: 0.5701 - accuracy: 0.7969 - val_loss: 1.3869 - val_accuracy: 0.5172\n",
            "Epoch 23/100\n",
            "2/2 [==============================] - 1s 552ms/step - loss: 0.5709 - accuracy: 0.7969 - val_loss: 0.9102 - val_accuracy: 0.6379\n",
            "Epoch 24/100\n",
            "2/2 [==============================] - 1s 551ms/step - loss: 0.4991 - accuracy: 0.7656 - val_loss: 0.9611 - val_accuracy: 0.6552\n",
            "Epoch 25/100\n",
            "2/2 [==============================] - 1s 552ms/step - loss: 0.4215 - accuracy: 0.8125 - val_loss: 1.1555 - val_accuracy: 0.5862\n",
            "Epoch 26/100\n",
            "2/2 [==============================] - 1s 548ms/step - loss: 0.4827 - accuracy: 0.7969 - val_loss: 1.1574 - val_accuracy: 0.5690\n",
            "Epoch 27/100\n",
            "2/2 [==============================] - 1s 546ms/step - loss: 0.3660 - accuracy: 0.8750 - val_loss: 0.8855 - val_accuracy: 0.6724\n",
            "Epoch 28/100\n",
            "2/2 [==============================] - 1s 559ms/step - loss: 0.4535 - accuracy: 0.7344 - val_loss: 0.8732 - val_accuracy: 0.6552\n",
            "Epoch 29/100\n",
            "2/2 [==============================] - 1s 548ms/step - loss: 0.3683 - accuracy: 0.9062 - val_loss: 1.0436 - val_accuracy: 0.6207\n",
            "Epoch 30/100\n",
            "2/2 [==============================] - 1s 561ms/step - loss: 0.4084 - accuracy: 0.8125 - val_loss: 0.8925 - val_accuracy: 0.6897\n",
            "Epoch 31/100\n",
            "2/2 [==============================] - 1s 560ms/step - loss: 0.3257 - accuracy: 0.8594 - val_loss: 0.8341 - val_accuracy: 0.6897\n",
            "Epoch 32/100\n",
            "2/2 [==============================] - 1s 561ms/step - loss: 0.3380 - accuracy: 0.8906 - val_loss: 0.9080 - val_accuracy: 0.6379\n",
            "Epoch 33/100\n",
            "2/2 [==============================] - 1s 554ms/step - loss: 0.3085 - accuracy: 0.8750 - val_loss: 0.8904 - val_accuracy: 0.6379\n",
            "Epoch 34/100\n",
            "2/2 [==============================] - 1s 563ms/step - loss: 0.2711 - accuracy: 0.8906 - val_loss: 0.9008 - val_accuracy: 0.6897\n",
            "Epoch 35/100\n",
            "2/2 [==============================] - 1s 551ms/step - loss: 0.3463 - accuracy: 0.8750 - val_loss: 0.8351 - val_accuracy: 0.7241\n",
            "Epoch 36/100\n",
            "2/2 [==============================] - 1s 561ms/step - loss: 0.3596 - accuracy: 0.8750 - val_loss: 0.9105 - val_accuracy: 0.6724\n",
            "Epoch 37/100\n",
            "2/2 [==============================] - 1s 549ms/step - loss: 0.2886 - accuracy: 0.8594 - val_loss: 0.8336 - val_accuracy: 0.7414\n",
            "Epoch 38/100\n",
            "2/2 [==============================] - 1s 560ms/step - loss: 0.2385 - accuracy: 0.9062 - val_loss: 0.8574 - val_accuracy: 0.6724\n",
            "Epoch 39/100\n",
            "2/2 [==============================] - 1s 552ms/step - loss: 0.2479 - accuracy: 0.9375 - val_loss: 0.8735 - val_accuracy: 0.6724\n",
            "Epoch 40/100\n",
            "2/2 [==============================] - 1s 551ms/step - loss: 0.2714 - accuracy: 0.9062 - val_loss: 0.8283 - val_accuracy: 0.7414\n",
            "Epoch 41/100\n",
            "2/2 [==============================] - 1s 558ms/step - loss: 0.2304 - accuracy: 0.9688 - val_loss: 0.8278 - val_accuracy: 0.7586\n",
            "Epoch 42/100\n",
            "2/2 [==============================] - 1s 549ms/step - loss: 0.2196 - accuracy: 0.9531 - val_loss: 0.8966 - val_accuracy: 0.6724\n",
            "Epoch 43/100\n",
            "2/2 [==============================] - 1s 557ms/step - loss: 0.2192 - accuracy: 0.9219 - val_loss: 0.8739 - val_accuracy: 0.6724\n",
            "Epoch 44/100\n",
            "2/2 [==============================] - 1s 552ms/step - loss: 0.2155 - accuracy: 0.9531 - val_loss: 0.8351 - val_accuracy: 0.7586\n",
            "Epoch 45/100\n",
            "2/2 [==============================] - 1s 555ms/step - loss: 0.2232 - accuracy: 0.9688 - val_loss: 0.8737 - val_accuracy: 0.6897\n",
            "Epoch 46/100\n",
            "2/2 [==============================] - 1s 553ms/step - loss: 0.2230 - accuracy: 0.9531 - val_loss: 0.8997 - val_accuracy: 0.6724\n",
            "Epoch 47/100\n",
            "2/2 [==============================] - 1s 550ms/step - loss: 0.2233 - accuracy: 0.9375 - val_loss: 0.8604 - val_accuracy: 0.7069\n",
            "Epoch 48/100\n",
            "2/2 [==============================] - 1s 544ms/step - loss: 0.2584 - accuracy: 0.9062 - val_loss: 0.8554 - val_accuracy: 0.7241\n",
            "Epoch 49/100\n",
            "2/2 [==============================] - 1s 547ms/step - loss: 0.2154 - accuracy: 0.9531 - val_loss: 0.9712 - val_accuracy: 0.6552\n",
            "Epoch 50/100\n",
            "2/2 [==============================] - 1s 551ms/step - loss: 0.2402 - accuracy: 0.9219 - val_loss: 0.8444 - val_accuracy: 0.7586\n",
            "Epoch 51/100\n",
            "2/2 [==============================] - 1s 558ms/step - loss: 0.2107 - accuracy: 0.9688 - val_loss: 0.8685 - val_accuracy: 0.7241\n",
            "Epoch 52/100\n",
            "2/2 [==============================] - 1s 561ms/step - loss: 0.2167 - accuracy: 0.9375 - val_loss: 0.8928 - val_accuracy: 0.6724\n",
            "Epoch 53/100\n",
            "2/2 [==============================] - 1s 548ms/step - loss: 0.2292 - accuracy: 0.9375 - val_loss: 0.9932 - val_accuracy: 0.6897\n",
            "Epoch 54/100\n",
            "2/2 [==============================] - 1s 550ms/step - loss: 0.2344 - accuracy: 0.9375 - val_loss: 0.8501 - val_accuracy: 0.7759\n",
            "Epoch 55/100\n",
            "2/2 [==============================] - 1s 549ms/step - loss: 0.2434 - accuracy: 0.9375 - val_loss: 0.8422 - val_accuracy: 0.7759\n",
            "Epoch 56/100\n",
            "2/2 [==============================] - 1s 551ms/step - loss: 0.1911 - accuracy: 0.9375 - val_loss: 0.9221 - val_accuracy: 0.6897\n",
            "Epoch 57/100\n",
            "2/2 [==============================] - 1s 545ms/step - loss: 0.2106 - accuracy: 0.9688 - val_loss: 0.8393 - val_accuracy: 0.7759\n",
            "Epoch 58/100\n",
            "2/2 [==============================] - 1s 546ms/step - loss: 0.1738 - accuracy: 0.9844 - val_loss: 0.8675 - val_accuracy: 0.7586\n",
            "Epoch 59/100\n",
            "2/2 [==============================] - 1s 548ms/step - loss: 0.1942 - accuracy: 0.9531 - val_loss: 0.9479 - val_accuracy: 0.6897\n",
            "Epoch 60/100\n",
            "2/2 [==============================] - 1s 551ms/step - loss: 0.1970 - accuracy: 0.9375 - val_loss: 0.8504 - val_accuracy: 0.7414\n",
            "Epoch 61/100\n",
            "2/2 [==============================] - 1s 554ms/step - loss: 0.1531 - accuracy: 0.9844 - val_loss: 0.8467 - val_accuracy: 0.7586\n",
            "Epoch 62/100\n",
            "2/2 [==============================] - 1s 548ms/step - loss: 0.1799 - accuracy: 0.9688 - val_loss: 0.8903 - val_accuracy: 0.6897\n",
            "Epoch 63/100\n",
            "2/2 [==============================] - 1s 552ms/step - loss: 0.1712 - accuracy: 0.9375 - val_loss: 0.8886 - val_accuracy: 0.7069\n",
            "Epoch 64/100\n",
            "2/2 [==============================] - 1s 555ms/step - loss: 0.1578 - accuracy: 0.9688 - val_loss: 0.8488 - val_accuracy: 0.7586\n",
            "Epoch 65/100\n",
            "2/2 [==============================] - 1s 551ms/step - loss: 0.1667 - accuracy: 0.9531 - val_loss: 0.8745 - val_accuracy: 0.6897\n",
            "Epoch 66/100\n",
            "2/2 [==============================] - 1s 546ms/step - loss: 0.1904 - accuracy: 0.9375 - val_loss: 0.9039 - val_accuracy: 0.7069\n",
            "Epoch 67/100\n",
            "2/2 [==============================] - 1s 548ms/step - loss: 0.1681 - accuracy: 0.9844 - val_loss: 0.8734 - val_accuracy: 0.7586\n",
            "Epoch 68/100\n",
            "2/2 [==============================] - 1s 552ms/step - loss: 0.2044 - accuracy: 0.9375 - val_loss: 0.8546 - val_accuracy: 0.7586\n",
            "Epoch 69/100\n",
            "2/2 [==============================] - 1s 616ms/step - loss: 0.1388 - accuracy: 1.0000 - val_loss: 0.9545 - val_accuracy: 0.6379\n",
            "Epoch 70/100\n",
            "2/2 [==============================] - 1s 553ms/step - loss: 0.1706 - accuracy: 0.9531 - val_loss: 0.8619 - val_accuracy: 0.7414\n",
            "Epoch 71/100\n",
            "2/2 [==============================] - 1s 548ms/step - loss: 0.1267 - accuracy: 1.0000 - val_loss: 0.8687 - val_accuracy: 0.7586\n",
            "Epoch 72/100\n",
            "2/2 [==============================] - 1s 555ms/step - loss: 0.1772 - accuracy: 0.9375 - val_loss: 0.8582 - val_accuracy: 0.7586\n",
            "Epoch 73/100\n",
            "2/2 [==============================] - 1s 554ms/step - loss: 0.1365 - accuracy: 1.0000 - val_loss: 0.8684 - val_accuracy: 0.7414\n",
            "Epoch 74/100\n",
            "2/2 [==============================] - 1s 550ms/step - loss: 0.1622 - accuracy: 0.9844 - val_loss: 0.8624 - val_accuracy: 0.7586\n",
            "Epoch 75/100\n",
            "2/2 [==============================] - 1s 558ms/step - loss: 0.1401 - accuracy: 0.9844 - val_loss: 0.8596 - val_accuracy: 0.7586\n",
            "Epoch 76/100\n",
            "2/2 [==============================] - 1s 543ms/step - loss: 0.1384 - accuracy: 1.0000 - val_loss: 0.8703 - val_accuracy: 0.7414\n",
            "Epoch 77/100\n",
            "2/2 [==============================] - 1s 553ms/step - loss: 0.1477 - accuracy: 0.9844 - val_loss: 0.8641 - val_accuracy: 0.7586\n",
            "Epoch 78/100\n",
            "2/2 [==============================] - 1s 556ms/step - loss: 0.1393 - accuracy: 0.9844 - val_loss: 0.8797 - val_accuracy: 0.7414\n",
            "Epoch 79/100\n",
            "2/2 [==============================] - 1s 556ms/step - loss: 0.1364 - accuracy: 0.9844 - val_loss: 0.8515 - val_accuracy: 0.7931\n",
            "Epoch 80/100\n",
            "2/2 [==============================] - 1s 565ms/step - loss: 0.1434 - accuracy: 0.9688 - val_loss: 0.8564 - val_accuracy: 0.7759\n",
            "Epoch 81/100\n",
            "2/2 [==============================] - 1s 556ms/step - loss: 0.1635 - accuracy: 0.9844 - val_loss: 0.8658 - val_accuracy: 0.7586\n",
            "Epoch 82/100\n",
            "2/2 [==============================] - 1s 558ms/step - loss: 0.1839 - accuracy: 0.9375 - val_loss: 0.9050 - val_accuracy: 0.7241\n",
            "Epoch 83/100\n",
            "2/2 [==============================] - 1s 546ms/step - loss: 0.1332 - accuracy: 1.0000 - val_loss: 0.8663 - val_accuracy: 0.7759\n",
            "Epoch 84/100\n",
            "2/2 [==============================] - 1s 557ms/step - loss: 0.1586 - accuracy: 0.9531 - val_loss: 0.8607 - val_accuracy: 0.7414\n",
            "Epoch 85/100\n",
            "2/2 [==============================] - 1s 552ms/step - loss: 0.1170 - accuracy: 1.0000 - val_loss: 0.9211 - val_accuracy: 0.7241\n",
            "Epoch 86/100\n",
            "2/2 [==============================] - 1s 543ms/step - loss: 0.1972 - accuracy: 0.9375 - val_loss: 0.8549 - val_accuracy: 0.7759\n",
            "Epoch 87/100\n",
            "2/2 [==============================] - 1s 556ms/step - loss: 0.1072 - accuracy: 0.9844 - val_loss: 0.8993 - val_accuracy: 0.7414\n",
            "Epoch 88/100\n",
            "2/2 [==============================] - 1s 551ms/step - loss: 0.1439 - accuracy: 0.9531 - val_loss: 0.9253 - val_accuracy: 0.7241\n",
            "Epoch 89/100\n",
            "2/2 [==============================] - 1s 555ms/step - loss: 0.1181 - accuracy: 0.9844 - val_loss: 0.8898 - val_accuracy: 0.7414\n",
            "Epoch 90/100\n",
            "2/2 [==============================] - 1s 549ms/step - loss: 0.1279 - accuracy: 1.0000 - val_loss: 0.8779 - val_accuracy: 0.7586\n",
            "Epoch 91/100\n",
            "2/2 [==============================] - 1s 550ms/step - loss: 0.1350 - accuracy: 0.9844 - val_loss: 0.8612 - val_accuracy: 0.7414\n",
            "Epoch 92/100\n",
            "2/2 [==============================] - 1s 559ms/step - loss: 0.1254 - accuracy: 0.9844 - val_loss: 0.9349 - val_accuracy: 0.6552\n",
            "Epoch 93/100\n",
            "2/2 [==============================] - 1s 549ms/step - loss: 0.1510 - accuracy: 0.9844 - val_loss: 0.8905 - val_accuracy: 0.7586\n",
            "Epoch 94/100\n",
            "2/2 [==============================] - 1s 560ms/step - loss: 0.1635 - accuracy: 0.9688 - val_loss: 0.8882 - val_accuracy: 0.7414\n",
            "Epoch 95/100\n",
            "2/2 [==============================] - 1s 555ms/step - loss: 0.1119 - accuracy: 0.9844 - val_loss: 0.8927 - val_accuracy: 0.7241\n",
            "Epoch 96/100\n",
            "2/2 [==============================] - 1s 556ms/step - loss: 0.1153 - accuracy: 1.0000 - val_loss: 0.8662 - val_accuracy: 0.7414\n",
            "Epoch 97/100\n",
            "2/2 [==============================] - 1s 547ms/step - loss: 0.1111 - accuracy: 0.9844 - val_loss: 0.8608 - val_accuracy: 0.7759\n",
            "Epoch 98/100\n",
            "2/2 [==============================] - 1s 552ms/step - loss: 0.1089 - accuracy: 0.9844 - val_loss: 0.9148 - val_accuracy: 0.7414\n",
            "Epoch 99/100\n",
            "2/2 [==============================] - 1s 551ms/step - loss: 0.1437 - accuracy: 0.9688 - val_loss: 0.8664 - val_accuracy: 0.7414\n",
            "Epoch 100/100\n",
            "2/2 [==============================] - 1s 543ms/step - loss: 0.1278 - accuracy: 0.9531 - val_loss: 0.8568 - val_accuracy: 0.7414\n"
          ],
          "name": "stdout"
        }
      ]
    },
    {
      "cell_type": "code",
      "metadata": {
        "id": "LRZipHNP1Pep",
        "colab_type": "code",
        "colab": {}
      },
      "source": [
        "# If your accuracy=100% and your validation accuracy < 50% that means your model is overfitting, validation loss if for the test data\n"
      ],
      "execution_count": null,
      "outputs": []
    },
    {
      "cell_type": "markdown",
      "metadata": {
        "id": "U_cXmMSv3bvm",
        "colab_type": "text"
      },
      "source": [
        "## Plotting the loss"
      ]
    },
    {
      "cell_type": "code",
      "metadata": {
        "id": "WtF1RTQu27QG",
        "colab_type": "code",
        "colab": {
          "base_uri": "https://localhost:8080/",
          "height": 282
        },
        "outputId": "6f21849f-4940-4996-872d-478d2c632760"
      },
      "source": [
        "plt.plot(r.history['loss'], label='train loss')\n",
        "plt.plot(r.history['val_loss'], label='val loss')\n",
        "plt.legend()\n",
        "plt.show()\n",
        "plt.savefig('lossval_loss')"
      ],
      "execution_count": null,
      "outputs": [
        {
          "output_type": "display_data",
          "data": {
            "image/png": "[encoded data removed]",
            "text/plain": [
              "<Figure size 432x288 with 1 Axes>"
            ]
          },
          "metadata": {
            "tags": [],
            "needs_background": "light"
          }
        },
        {
          "output_type": "display_data",
          "data": {
            "text/plain": [
              "<Figure size 432x288 with 0 Axes>"
            ]
          },
          "metadata": {
            "tags": []
          }
        }
      ]
    },
    {
      "cell_type": "markdown",
      "metadata": {
        "id": "y9H016Lq376L",
        "colab_type": "text"
      },
      "source": [
        "## Plotting the accuracy"
      ]
    },
    {
      "cell_type": "code",
      "metadata": {
        "id": "aEXCllce33Jx",
        "colab_type": "code",
        "colab": {
          "base_uri": "https://localhost:8080/",
          "height": 282
        },
        "outputId": "b0bc755d-493b-4ac4-d094-91ab51d93fdd"
      },
      "source": [
        "plt.plot(r.history['accuracy'], label='train accuracy')\n",
        "plt.plot(r.history['val_accuracy'], label='val accuracy')\n",
        "plt.legend()\n",
        "plt.show()\n",
        "plt.savefig('accval_acc')"
      ],
      "execution_count": null,
      "outputs": [
        {
          "output_type": "display_data",
          "data": {
            "image/png": "[encoded data removed]",
            "text/plain": [
              "<Figure size 432x288 with 1 Axes>"
            ]
          },
          "metadata": {
            "tags": [],
            "needs_background": "light"
          }
        },
        {
          "output_type": "display_data",
          "data": {
            "text/plain": [
              "<Figure size 432x288 with 0 Axes>"
            ]
          },
          "metadata": {
            "tags": []
          }
        }
      ]
    },
    {
      "cell_type": "code",
      "metadata": {
        "id": "oUHOGVGG4KWt",
        "colab_type": "code",
        "colab": {}
      },
      "source": [
        "# Saving the model\n",
        "from tensorflow.keras.models import load_model\n",
        "\n",
        "model.save('model_resnet50.h5')"
      ],
      "execution_count": null,
      "outputs": []
    },
    {
      "cell_type": "code",
      "metadata": {
        "id": "Y6kTuodS4oWR",
        "colab_type": "code",
        "colab": {
          "base_uri": "https://localhost:8080/",
          "height": 1000
        },
        "outputId": "878e9cfa-1e52-47f2-8d81-9cbf9d711891"
      },
      "source": [
        "# Predicting the model\n",
        "\n",
        "pred = model.predict(test_set)\n",
        "pred"
      ],
      "execution_count": null,
      "outputs": [
        {
          "output_type": "execute_result",
          "data": {
            "text/plain": [
              "array([[3.53807151e-01, 6.25290811e-01, 2.09020451e-02],\n",
              "       [5.37467778e-01, 4.21368517e-02, 4.20395374e-01],\n",
              "       [6.11925460e-02, 5.25946200e-01, 4.12861228e-01],\n",
              "       [5.26344916e-03, 3.55764151e-01, 6.38972402e-01],\n",
              "       [2.50220560e-02, 8.65445375e-01, 1.09532617e-01],\n",
              "       [2.61870306e-02, 3.99502218e-01, 5.74310780e-01],\n",
              "       [7.21800840e-03, 9.92379308e-01, 4.02668986e-04],\n",
              "       [1.15797222e-02, 8.01307321e-01, 1.87113032e-01],\n",
              "       [8.32114078e-04, 9.95997667e-01, 3.17021133e-03],\n",
              "       [2.15551313e-02, 4.75570351e-01, 5.02874494e-01],\n",
              "       [3.43901254e-02, 8.60255599e-01, 1.05354339e-01],\n",
              "       [1.79995783e-02, 1.39628816e-03, 9.80604053e-01],\n",
              "       [1.06394216e-01, 5.28895795e-01, 3.64710003e-01],\n",
              "       [4.18572277e-02, 7.29736745e-01, 2.28405997e-01],\n",
              "       [3.95174697e-03, 9.90514755e-01, 5.53346612e-03],\n",
              "       [2.07560256e-01, 6.33751273e-01, 1.58688456e-01],\n",
              "       [3.38501148e-02, 2.26475596e-01, 7.39674330e-01],\n",
              "       [1.56654835e-01, 7.08055615e-01, 1.35289580e-01],\n",
              "       [3.26888263e-03, 9.69604492e-01, 2.71265972e-02],\n",
              "       [1.11952305e-01, 9.50284954e-03, 8.78544867e-01],\n",
              "       [3.69995274e-02, 8.67166936e-01, 9.58335102e-02],\n",
              "       [3.16982903e-03, 2.24539414e-02, 9.74376261e-01],\n",
              "       [5.11956960e-02, 1.51987355e-02, 9.33605492e-01],\n",
              "       [2.31647849e-01, 5.63143253e-01, 2.05208957e-01],\n",
              "       [9.02254879e-01, 4.41242428e-03, 9.33326706e-02],\n",
              "       [6.54443540e-03, 9.69657958e-01, 2.37975158e-02],\n",
              "       [8.35081816e-01, 1.21100985e-01, 4.38172258e-02],\n",
              "       [6.16574995e-02, 4.64365520e-02, 8.91905904e-01],\n",
              "       [4.65463381e-03, 6.10979497e-01, 3.84365857e-01],\n",
              "       [1.21912165e-02, 9.41093028e-01, 4.67157476e-02],\n",
              "       [3.96595486e-02, 2.12758454e-03, 9.58212793e-01],\n",
              "       [1.38352998e-03, 9.93688047e-01, 4.92838351e-03],\n",
              "       [3.27181740e-04, 9.93124902e-01, 6.54785754e-03],\n",
              "       [1.16442971e-01, 7.86170006e-01, 9.73870307e-02],\n",
              "       [3.51752639e-02, 7.95360267e-01, 1.69464499e-01],\n",
              "       [2.47546911e-01, 6.55662656e-01, 9.67904627e-02],\n",
              "       [7.84683004e-02, 4.27766863e-05, 9.21488881e-01],\n",
              "       [3.00322212e-02, 9.64452028e-01, 5.51572675e-03],\n",
              "       [4.76561254e-03, 9.78032470e-01, 1.72018670e-02],\n",
              "       [1.21612744e-02, 2.41598650e-03, 9.85422730e-01],\n",
              "       [2.10891850e-02, 6.28177643e-01, 3.50733221e-01],\n",
              "       [1.65399481e-02, 9.67929542e-01, 1.55305099e-02],\n",
              "       [9.63597298e-01, 2.53230371e-02, 1.10797044e-02],\n",
              "       [2.42401324e-02, 7.80982256e-01, 1.94777548e-01],\n",
              "       [1.81636944e-01, 2.02697441e-01, 6.15665615e-01],\n",
              "       [9.94841635e-01, 3.08993738e-03, 2.06844113e-03],\n",
              "       [1.48071922e-06, 5.51946461e-04, 9.99446571e-01],\n",
              "       [3.92801166e-02, 2.98053354e-01, 6.62666500e-01],\n",
              "       [7.28850067e-02, 3.90551388e-01, 5.36563575e-01],\n",
              "       [8.47304463e-01, 1.50773093e-01, 1.92248228e-03],\n",
              "       [7.17176571e-02, 8.18266943e-02, 8.46455693e-01],\n",
              "       [9.47081625e-01, 3.93661074e-02, 1.35523118e-02],\n",
              "       [2.83839758e-02, 7.07817078e-01, 2.63798922e-01],\n",
              "       [7.03234315e-01, 1.86967701e-01, 1.09797977e-01],\n",
              "       [1.33074311e-04, 9.99069273e-01, 7.97687739e-04],\n",
              "       [7.06427381e-04, 8.56092751e-01, 1.43200815e-01],\n",
              "       [8.91646687e-06, 1.08015629e-04, 9.99883056e-01],\n",
              "       [7.73976147e-01, 9.91598219e-02, 1.26863986e-01]], dtype=float32)"
            ]
          },
          "metadata": {
            "tags": []
          },
          "execution_count": 26
        }
      ]
    },
    {
      "cell_type": "code",
      "metadata": {
        "id": "QxCa8Y-p48Rg",
        "colab_type": "code",
        "colab": {}
      },
      "source": [
        "import numpy as np\n",
        "\n",
        "pred = np.argmax(pred, axis=1)"
      ],
      "execution_count": null,
      "outputs": []
    },
    {
      "cell_type": "code",
      "metadata": {
        "id": "PnmNghBB69bQ",
        "colab_type": "code",
        "colab": {
          "base_uri": "https://localhost:8080/",
          "height": 69
        },
        "outputId": "fe01cc04-5ec5-4c87-e2a1-c3522d607a77"
      },
      "source": [
        "pred"
      ],
      "execution_count": null,
      "outputs": [
        {
          "output_type": "execute_result",
          "data": {
            "text/plain": [
              "array([1, 0, 1, 2, 1, 2, 1, 1, 1, 2, 1, 2, 1, 1, 1, 1, 2, 1, 1, 2, 1, 2,\n",
              "       2, 1, 0, 1, 0, 2, 1, 1, 2, 1, 1, 1, 1, 1, 2, 1, 1, 2, 1, 1, 0, 1,\n",
              "       2, 0, 2, 2, 2, 0, 2, 0, 1, 0, 1, 1, 2, 0])"
            ]
          },
          "metadata": {
            "tags": []
          },
          "execution_count": 28
        }
      ]
    },
    {
      "cell_type": "code",
      "metadata": {
        "id": "RMp3E6P06-uF",
        "colab_type": "code",
        "colab": {}
      },
      "source": [
        "from tensorflow.keras.models import load_model\n",
        "from tensorflow.keras.preprocessing import image"
      ],
      "execution_count": null,
      "outputs": []
    },
    {
      "cell_type": "code",
      "metadata": {
        "id": "AAaXDzuG7Lgo",
        "colab_type": "code",
        "colab": {}
      },
      "source": [
        "model = load_model('model_resnet50.h5')"
      ],
      "execution_count": null,
      "outputs": []
    },
    {
      "cell_type": "code",
      "metadata": {
        "id": "YcBCXcBD7UIH",
        "colab_type": "code",
        "colab": {}
      },
      "source": [
        "img = image.load_img('/content/drive/My Drive/image_dataset/Test/lamborghini/15.jpg', target_size=(224,224))"
      ],
      "execution_count": null,
      "outputs": []
    },
    {
      "cell_type": "code",
      "metadata": {
        "id": "rGwY_eQs7nPx",
        "colab_type": "code",
        "colab": {
          "base_uri": "https://localhost:8080/",
          "height": 241
        },
        "outputId": "9eac609e-0966-46f3-cab9-5dedd8466b15"
      },
      "source": [
        "img"
      ],
      "execution_count": null,
      "outputs": [
        {
          "output_type": "execute_result",
          "data": {
            "image/png": "[encoded data removed]",
            "text/plain": [
              "<PIL.Image.Image image mode=RGB size=224x224 at 0x7F8448C45A20>"
            ]
          },
          "metadata": {
            "tags": []
          },
          "execution_count": 35
        }
      ]
    },
    {
      "cell_type": "code",
      "metadata": {
        "id": "TxOEcuJr72qL",
        "colab_type": "code",
        "colab": {
          "base_uri": "https://localhost:8080/",
          "height": 868
        },
        "outputId": "4791b3be-3995-47ea-f8c4-aa881d16f714"
      },
      "source": [
        "# Converting the image into an array\n",
        "\n",
        "x = image.img_to_array(img)\n",
        "x"
      ],
      "execution_count": null,
      "outputs": [
        {
          "output_type": "execute_result",
          "data": {
            "text/plain": [
              "array([[[ 45.,  92., 182.],\n",
              "        [ 45.,  92., 182.],\n",
              "        [ 45.,  92., 182.],\n",
              "        ...,\n",
              "        [216.,  59., 148.],\n",
              "        [216.,  59., 148.],\n",
              "        [216.,  59., 148.]],\n",
              "\n",
              "       [[ 45.,  92., 182.],\n",
              "        [ 45.,  92., 182.],\n",
              "        [ 45.,  92., 182.],\n",
              "        ...,\n",
              "        [216.,  59., 148.],\n",
              "        [216.,  59., 148.],\n",
              "        [216.,  59., 148.]],\n",
              "\n",
              "       [[ 45.,  92., 182.],\n",
              "        [ 45.,  92., 182.],\n",
              "        [ 45.,  92., 182.],\n",
              "        ...,\n",
              "        [216.,  59., 148.],\n",
              "        [216.,  59., 148.],\n",
              "        [216.,  59., 148.]],\n",
              "\n",
              "       ...,\n",
              "\n",
              "       [[ 52.,  90., 165.],\n",
              "        [ 52.,  90., 165.],\n",
              "        [ 52.,  90., 165.],\n",
              "        ...,\n",
              "        [ 53.,  85., 158.],\n",
              "        [ 53.,  85., 158.],\n",
              "        [ 53.,  85., 158.]],\n",
              "\n",
              "       [[ 52.,  90., 165.],\n",
              "        [ 52.,  90., 165.],\n",
              "        [ 52.,  90., 165.],\n",
              "        ...,\n",
              "        [ 53.,  85., 158.],\n",
              "        [ 53.,  85., 158.],\n",
              "        [ 53.,  85., 158.]],\n",
              "\n",
              "       [[ 51.,  88., 168.],\n",
              "        [ 51.,  88., 166.],\n",
              "        [ 51.,  88., 166.],\n",
              "        ...,\n",
              "        [ 55.,  84., 160.],\n",
              "        [ 55.,  84., 160.],\n",
              "        [ 55.,  84., 160.]]], dtype=float32)"
            ]
          },
          "metadata": {
            "tags": []
          },
          "execution_count": 37
        }
      ]
    },
    {
      "cell_type": "code",
      "metadata": {
        "id": "VgqIOVIJ7_4i",
        "colab_type": "code",
        "colab": {
          "base_uri": "https://localhost:8080/",
          "height": 34
        },
        "outputId": "90836525-a767-4159-bd6b-42f79393dd86"
      },
      "source": [
        "x.shape"
      ],
      "execution_count": null,
      "outputs": [
        {
          "output_type": "execute_result",
          "data": {
            "text/plain": [
              "(224, 224, 3)"
            ]
          },
          "metadata": {
            "tags": []
          },
          "execution_count": 38
        }
      ]
    },
    {
      "cell_type": "code",
      "metadata": {
        "id": "c8gKHXVQ8JVY",
        "colab_type": "code",
        "colab": {}
      },
      "source": [
        "x = x/255"
      ],
      "execution_count": null,
      "outputs": []
    },
    {
      "cell_type": "code",
      "metadata": {
        "id": "ubxdn0Wo8omY",
        "colab_type": "code",
        "colab": {}
      },
      "source": [
        ""
      ],
      "execution_count": null,
      "outputs": []
    }
  ]
}